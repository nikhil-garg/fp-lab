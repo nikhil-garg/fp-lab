{
 "cells": [
  {
   "cell_type": "markdown",
   "metadata": {
    "deletable": true,
    "editable": true
   },
   "source": [
    "# Aufgabe 1"
   ]
  },
  {
   "cell_type": "code",
   "execution_count": 1,
   "metadata": {
    "collapsed": true,
    "deletable": true,
    "editable": true
   },
   "outputs": [],
   "source": [
    "import numpy as np\n",
    "import matplotlib.pyplot as plt"
   ]
  },
  {
   "cell_type": "code",
   "execution_count": 2,
   "metadata": {
    "collapsed": false,
    "deletable": true,
    "editable": true
   },
   "outputs": [],
   "source": [
    "bew, fix, x, y, z = np.loadtxt('translation-nur-translation.txt',delimiter=',', skiprows = 1, unpack = True, usecols=(0,1,2,3,4))"
   ]
  },
  {
   "cell_type": "code",
   "execution_count": 3,
   "metadata": {
    "collapsed": false,
    "deletable": true,
    "editable": true
   },
   "outputs": [
    {
     "data": {
      "text/plain": [
       "array([  0.    ,  -4.8329, -14.7942, -19.9738, -27.9518,   4.8251,\n",
       "         0.    ,  -9.6918, -15.871 , -23.9163,  14.8111,   9.7127,\n",
       "         0.    ,  -6.1601, -13.7562,  21.7674,  15.8723,   6.1595,\n",
       "         0.    ,  -7.5637,  27.9325,  23.8866,  13.7602,   7.568 ,   0.    ])"
      ]
     },
     "execution_count": 3,
     "metadata": {},
     "output_type": "execute_result"
    }
   ],
   "source": [
    "x"
   ]
  },
  {
   "cell_type": "code",
   "execution_count": 4,
   "metadata": {
    "collapsed": false
   },
   "outputs": [
    {
     "data": {
      "text/plain": [
       "array([ 0.    ,  0.1065, -0.3314,  1.0932, -0.2742, -0.1209,  0.    ,\n",
       "       -0.6047,  0.9802, -0.3624,  0.3449,  0.6039,  0.    ,  1.6273,\n",
       "       -0.0416, -1.1602, -0.9965, -1.6327,  0.    , -1.5884,  0.2704,\n",
       "        0.334 ,  0.0281,  1.5803,  0.    ])"
      ]
     },
     "execution_count": 4,
     "metadata": {},
     "output_type": "execute_result"
    }
   ],
   "source": [
    "y"
   ]
  },
  {
   "cell_type": "code",
   "execution_count": 5,
   "metadata": {
    "collapsed": true,
    "deletable": true,
    "editable": true
   },
   "outputs": [],
   "source": [
    "# Gemessene Kamera-Abstände: \n",
    "x_gemessen = [0, 1.6, 3.6, 5.4, 6.8]\n",
    "\n",
    "# Verschiebung Pixel Positionen\n",
    "x_trafo = [0, 4.8251, 14.8111, 21.7674, 27.9325]"
   ]
  },
  {
   "cell_type": "code",
   "execution_count": 6,
   "metadata": {
    "collapsed": false
   },
   "outputs": [],
   "source": [
    "cms = np.zeros((5,5))\n",
    "pixels = np.zeros((5,5))"
   ]
  },
  {
   "cell_type": "code",
   "execution_count": 7,
   "metadata": {
    "collapsed": false
   },
   "outputs": [],
   "source": [
    "# Fülle die Matrix der Abstände mit den Abständen\n",
    "for i in range(len(x_gemessen)):\n",
    "    for j in range(len(x_gemessen)):\n",
    "        #print(i,j)\n",
    "        cms[i][j] = np.abs(x_gemessen[j]-x_gemessen[i])"
   ]
  },
  {
   "cell_type": "code",
   "execution_count": 8,
   "metadata": {
    "collapsed": false
   },
   "outputs": [],
   "source": [
    "# Fülle die Translationen in cm über das txt-Dokument\n",
    "for i in range(len(bew)-1):\n",
    "    pixels[int(bew[i])-1][int(fix[i])-1] = np.abs(x[i])"
   ]
  },
  {
   "cell_type": "code",
   "execution_count": 9,
   "metadata": {
    "collapsed": false
   },
   "outputs": [
    {
     "data": {
      "text/plain": [
       "array([[ 0. ,  1.6,  3.6,  5.4,  6.8],\n",
       "       [ 1.6,  0. ,  2. ,  3.8,  5.2],\n",
       "       [ 3.6,  2. ,  0. ,  1.8,  3.2],\n",
       "       [ 5.4,  3.8,  1.8,  0. ,  1.4],\n",
       "       [ 6.8,  5.2,  3.2,  1.4,  0. ]])"
      ]
     },
     "execution_count": 9,
     "metadata": {},
     "output_type": "execute_result"
    }
   ],
   "source": [
    "cms"
   ]
  },
  {
   "cell_type": "code",
   "execution_count": 10,
   "metadata": {
    "collapsed": false
   },
   "outputs": [
    {
     "data": {
      "text/plain": [
       "array([[  0.    ,   4.8329,  14.7942,  19.9738,  27.9518],\n",
       "       [  4.8251,   0.    ,   9.6918,  15.871 ,  23.9163],\n",
       "       [ 14.8111,   9.7127,   0.    ,   6.1601,  13.7562],\n",
       "       [ 21.7674,  15.8723,   6.1595,   0.    ,   7.5637],\n",
       "       [ 27.9325,  23.8866,  13.7602,   7.568 ,   0.    ]])"
      ]
     },
     "execution_count": 10,
     "metadata": {},
     "output_type": "execute_result"
    }
   ],
   "source": [
    "pixels"
   ]
  },
  {
   "cell_type": "code",
   "execution_count": 11,
   "metadata": {
    "collapsed": false
   },
   "outputs": [],
   "source": [
    "res_cms = []\n",
    "res_pixels = []\n",
    "for i in range(5):\n",
    "    for j in range(i, 5):\n",
    "        res_cms.append(cms[i][j])\n",
    "        res_pixels.append(pixels[i][j])\n"
   ]
  },
  {
   "cell_type": "code",
   "execution_count": 27,
   "metadata": {
    "collapsed": false
   },
   "outputs": [],
   "source": [
    "res_cms = np.array(res_cms)"
   ]
  },
  {
   "cell_type": "code",
   "execution_count": 28,
   "metadata": {
    "collapsed": false
   },
   "outputs": [],
   "source": [
    "res_pixels = np.array(res_pixels)"
   ]
  },
  {
   "cell_type": "code",
   "execution_count": 30,
   "metadata": {
    "collapsed": false
   },
   "outputs": [
    {
     "data": {
      "text/plain": [
       "(15,)"
      ]
     },
     "execution_count": 30,
     "metadata": {},
     "output_type": "execute_result"
    }
   ],
   "source": [
    "np.shape(np.ones(15))"
   ]
  },
  {
   "cell_type": "code",
   "execution_count": 31,
   "metadata": {
    "collapsed": false
   },
   "outputs": [
    {
     "data": {
      "image/png": "[encoded data removed]",
      "text/plain": [
       "<matplotlib.figure.Figure at 0x10b44b320>"
      ]
     },
     "metadata": {},
     "output_type": "display_data"
    }
   ],
   "source": [
    "plt.scatter(res_cms, res_pixels)\n",
    "plt.title('Verschiebung des Bildes vs Kamera')\n",
    "plt.xlabel('Verschiebung in cm')\n",
    "plt.ylabel('Verschiebung in Pixel')\n",
    "plt.show()"
   ]
  },
  {
   "cell_type": "code",
   "execution_count": 77,
   "metadata": {
    "collapsed": false,
    "deletable": true,
    "editable": true
   },
   "outputs": [
    {
     "name": "stdout",
     "output_type": "stream",
     "text": [
      "[ 4.12649787  0.06064495]\n",
      "96.7720634103\n",
      "7.44400487771\n",
      "Wahrscheinlichkeit = 0.0%\n",
      "0.153139706952\n"
     ]
    },
    {
     "data": {
      "image/png": "[encoded data removed]",
      "text/plain": [
       "<matplotlib.figure.Figure at 0x10b40b080>"
      ]
     },
     "metadata": {},
     "output_type": "display_data"
    }
   ],
   "source": [
    "%matplotlib inline\n",
    "import matplotlib.pyplot as plt\n",
    "import numpy as np\n",
    "from scipy.optimize import curve_fit\n",
    "\n",
    "#Fitten einer Gerade an die Daten: \n",
    "def linear(x, c, t): \n",
    "    return c*x + t\n",
    "popt, pcov = curve_fit(linear, res_cms, res_pixels)\n",
    "\n",
    "x = np.linspace(-3,10, 100)\n",
    "plt.plot(x, linear(x, *popt), linestyle='-', label='Fitfunktion $f(x)=c*x + t $') #Fit plotten\n",
    "stdfehler = np.sqrt(pcov[0,0])\n",
    "print(popt)\n",
    "\n",
    "\n",
    "#Chi-quadrat-Summe berechnen\n",
    "chisquare=np.sum((res_pixels - linear(res_cms, *popt))**2/((np.ones(15)*linear(0.1, *popt))**2))\n",
    "dof=len(res_cms)-2 #degrees of freedom, Freiheitsgrade\n",
    "chisquare_red=chisquare/dof\n",
    "print(chisquare)\n",
    "print(chisquare_red)\n",
    "\n",
    "#Fitwahrscheinlichkeit berechnen: \n",
    "from scipy.stats import chi2\n",
    "prob=round(1-chi2.cdf(chisquare, dof), 2)*100\n",
    "print('Wahrscheinlichkeit = '+str(prob)+'%')\n",
    "\n",
    "\n",
    "#Plotten der berechneten Werte unter die Legende\n",
    "plt.rcParams[\"figure.figsize\"][0] = 8\n",
    "plt.rcParams[\"figure.figsize\"][1] = 5\n",
    "plt.text(4, 8, '$c=$%.2e $\\pm$ %.2e' %(popt[0], stdfehler ), fontsize=10)\n",
    "plt.text(4, 5.5, '$\\chi^{2}=$ %.1f' %(chisquare), fontsize=10)\n",
    "plt.text(4, 3, '$\\chi_{red}^{2}=$ %.1f ' %(chisquare_red), fontsize=10)\n",
    "plt.text(4, 0.5, '$P=$ %.2f ' %(prob) + '%', fontsize=10)\n",
    "\n",
    "#Plot der Werte\n",
    "plt.errorbar(res_cms, res_pixels, xerr=0.1, linestyle='none', marker='x')\n",
    "\n",
    "#Achsenbeschriftungen des Plots\n",
    "plt.xlabel('$Verschiebung\\ der\\ Kamera\\ [cm]$')\n",
    "plt.ylabel('$Verschiebung\\ durch\\ Translation\\ [pixel]$')\n",
    "plt.title('Verhältnis von Kamera- zu Pixelverschiebung')\n",
    "plt.axis((-1, 8, -2, 30))\n",
    "plt.legend(loc='best', borderpad=1, borderaxespad=1, shadow='true', fontsize='medium')\n",
    "plt.grid(True)\n",
    "\n",
    "print(stdfehler)\n",
    "#Plot abspeichern\n",
    "plt.savefig('Verhältnis_Verschiebung.pdf', dpi=300, format='pdf')"
   ]
  },
  {
   "cell_type": "code",
   "execution_count": 75,
   "metadata": {
    "collapsed": false
   },
   "outputs": [
    {
     "data": {
      "text/plain": [
       "Power_divergenceResult(statistic=2.3200626235878157, pvalue=0.12771488435951087)"
      ]
     },
     "execution_count": 75,
     "metadata": {},
     "output_type": "execute_result"
    }
   ],
   "source": [
    "from scipy.stats import chisquare\n",
    "chisquare(f_obs=res_pixels, f_exp=linear(res_cms, *popt), ddof=13, axis=0)"
   ]
  }
 ],
 "metadata": {
  "kernelspec": {
   "display_name": "Python 3",
   "language": "python",
   "name": "python3"
  },
  "language_info": {
   "codemirror_mode": {
    "name": "ipython",
    "version": 3
   },
   "file_extension": ".py",
   "mimetype": "text/x-python",
   "name": "python",
   "nbconvert_exporter": "python",
   "pygments_lexer": "ipython3",
   "version": "3.6.5"
  }
 },
 "nbformat": 4,
 "nbformat_minor": 2
}
